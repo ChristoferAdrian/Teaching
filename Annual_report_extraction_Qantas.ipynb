{
  "nbformat": 4,
  "nbformat_minor": 0,
  "metadata": {
    "colab": {
      "name": "Annual report extraction - Qantas",
      "provenance": [],
      "collapsed_sections": [],
      "include_colab_link": true
    },
    "kernelspec": {
      "name": "python3",
      "display_name": "Python 3"
    },
    "language_info": {
      "name": "python"
    }
  },
  "cells": [
    {
      "cell_type": "markdown",
      "metadata": {
        "id": "view-in-github",
        "colab_type": "text"
      },
      "source": [
        "<a href=\"https://colab.research.google.com/github/ChristoferAdrian/Teaching/blob/main/Annual_report_extraction_Qantas.ipynb\" target=\"_parent\"><img src=\"https://colab.research.google.com/assets/colab-badge.svg\" alt=\"Open In Colab\"/></a>"
      ]
    },
    {
      "cell_type": "markdown",
      "metadata": {
        "id": "qLpKCcLzW0_C"
      },
      "source": [
        "**Install + import**"
      ]
    },
    {
      "cell_type": "code",
      "metadata": {
        "id": "AxUM8-0KxbXS",
        "colab": {
          "base_uri": "https://localhost:8080/"
        },
        "outputId": "09ff3632-a46d-48ce-cba7-4041eb20da2e"
      },
      "source": [
        "!pip install pdfplumber\n",
        "!pip install textstat\n",
        "import requests\n",
        "import pdfplumber\n",
        "import textstat"
      ],
      "execution_count": null,
      "outputs": [
        {
          "output_type": "stream",
          "name": "stdout",
          "text": [
            "Collecting pdfplumber\n",
            "  Downloading pdfplumber-0.5.28.tar.gz (45 kB)\n",
            "\u001b[K     |████████████████████████████████| 45 kB 1.2 MB/s \n",
            "\u001b[?25hCollecting pdfminer.six==20200517\n",
            "  Downloading pdfminer.six-20200517-py3-none-any.whl (5.6 MB)\n",
            "\u001b[K     |████████████████████████████████| 5.6 MB 11.4 MB/s \n",
            "\u001b[?25hRequirement already satisfied: Pillow>=7.0.0 in /usr/local/lib/python3.7/dist-packages (from pdfplumber) (7.1.2)\n",
            "Collecting Wand\n",
            "  Downloading Wand-0.6.7-py2.py3-none-any.whl (139 kB)\n",
            "\u001b[K     |████████████████████████████████| 139 kB 41.1 MB/s \n",
            "\u001b[?25hRequirement already satisfied: sortedcontainers in /usr/local/lib/python3.7/dist-packages (from pdfminer.six==20200517->pdfplumber) (2.4.0)\n",
            "Requirement already satisfied: chardet in /usr/local/lib/python3.7/dist-packages (from pdfminer.six==20200517->pdfplumber) (3.0.4)\n",
            "Collecting pycryptodome\n",
            "  Downloading pycryptodome-3.10.1-cp35-abi3-manylinux2010_x86_64.whl (1.9 MB)\n",
            "\u001b[K     |████████████████████████████████| 1.9 MB 39.5 MB/s \n",
            "\u001b[?25hBuilding wheels for collected packages: pdfplumber\n",
            "  Building wheel for pdfplumber (setup.py) ... \u001b[?25l\u001b[?25hdone\n",
            "  Created wheel for pdfplumber: filename=pdfplumber-0.5.28-py3-none-any.whl size=32240 sha256=7e10c5e427e61c0f2a005f201064d007a3bdb9c93187571321c5a68c5d974117\n",
            "  Stored in directory: /root/.cache/pip/wheels/f2/b1/a0/c0a77b756d580f53b3806ae0e0b3ec945a8d05fca1d6e10cc1\n",
            "Successfully built pdfplumber\n",
            "Installing collected packages: pycryptodome, Wand, pdfminer.six, pdfplumber\n",
            "Successfully installed Wand-0.6.7 pdfminer.six-20200517 pdfplumber-0.5.28 pycryptodome-3.10.1\n",
            "Collecting textstat\n",
            "  Downloading textstat-0.7.2-py3-none-any.whl (101 kB)\n",
            "\u001b[K     |████████████████████████████████| 101 kB 4.4 MB/s \n",
            "\u001b[?25hCollecting pyphen\n",
            "  Downloading pyphen-0.11.0-py3-none-any.whl (2.0 MB)\n",
            "\u001b[K     |████████████████████████████████| 2.0 MB 39.2 MB/s \n",
            "\u001b[?25hInstalling collected packages: pyphen, textstat\n",
            "Successfully installed pyphen-0.11.0 textstat-0.7.2\n"
          ]
        }
      ]
    },
    {
      "cell_type": "markdown",
      "metadata": {
        "id": "zvMB6zSv08Ts"
      },
      "source": [
        "**Save URL to specific directory**"
      ]
    },
    {
      "cell_type": "code",
      "metadata": {
        "id": "Etwx4fFELGPd"
      },
      "source": [
        "sample_url = 'https://investor.qantas.com/FormBuilder/_Resource/_module/doLLG5ufYkCyEPjF1tpgyw/file/annual-reports/2020-Annual-Report-ASX.pdf'\n",
        "with requests.get(sample_url) as r:\n",
        "  with open('Qantas2020.pdf', 'wb') as file:\n",
        "    file.write(r.content)"
      ],
      "execution_count": null,
      "outputs": []
    },
    {
      "cell_type": "code",
      "metadata": {
        "id": "64FzMOc92HZB"
      },
      "source": [
        "fulltext = \"\"\n",
        "\n",
        "with pdfplumber.open('Qantas2020.pdf') as pdf:\n",
        "    for page in pdf.pages:\n",
        "      text = page.extract_text()\n",
        "      fulltext+=text\n",
        "      print(f\"Extracting page {page}\")\n",
        "     \n",
        "\n",
        "fulltext"
      ],
      "execution_count": null,
      "outputs": []
    },
    {
      "cell_type": "markdown",
      "metadata": {
        "id": "oECFKpXD9I3b"
      },
      "source": [
        "**Extract all pdf pages**"
      ]
    },
    {
      "cell_type": "code",
      "metadata": {
        "id": "hIioJESEZv2e"
      },
      "source": [
        "fulltext = []\n",
        "with pdfplumber.open('Qantas2020.pdf') as pdf:\n",
        "    for page in pdf.pages:\n",
        "      text = page.extract_text()\n",
        "      text = text.lower()\n",
        "      fulltext.append(text)\n",
        "fulltext"
      ],
      "execution_count": null,
      "outputs": []
    },
    {
      "cell_type": "markdown",
      "metadata": {
        "id": "x9zU8zi8VzUG"
      },
      "source": [
        "**Combining text**"
      ]
    },
    {
      "cell_type": "code",
      "metadata": {
        "id": "eqaJBKw9Crtl"
      },
      "source": [
        "data = '-'.join(fulltext)\n",
        "data"
      ],
      "execution_count": null,
      "outputs": []
    },
    {
      "cell_type": "markdown",
      "metadata": {
        "id": "yyZnSQcRVj-Z"
      },
      "source": [
        "**Split by row**"
      ]
    },
    {
      "cell_type": "code",
      "metadata": {
        "id": "slOjLbWvVBHY"
      },
      "source": [
        "row =fulltext.split('\\n')\n",
        "row"
      ],
      "execution_count": null,
      "outputs": []
    },
    {
      "cell_type": "markdown",
      "metadata": {
        "id": "OncmBB2g9T-x"
      },
      "source": [
        "**Extracting content**"
      ]
    },
    {
      "cell_type": "code",
      "metadata": {
        "id": "x73JoU-sznSc"
      },
      "source": [
        "for item in row:\n",
        "  if 'total' in item:\n",
        "    total = item.split('total')[-1]\n",
        "    print(total)"
      ],
      "execution_count": null,
      "outputs": []
    },
    {
      "cell_type": "code",
      "metadata": {
        "id": "XMstNNCaX_zn"
      },
      "source": [
        "for item in row:\n",
        "  if 'finance costs' in item:\n",
        "    fc = item.split('finance costs')[-1]\n",
        "    print(fc)"
      ],
      "execution_count": null,
      "outputs": []
    },
    {
      "cell_type": "code",
      "metadata": {
        "id": "DaBBcB_PYNx3"
      },
      "source": [
        "for item in row:\n",
        "  if 'impairment' in item:\n",
        "    imp = item.split('impairment')[-1]\n",
        "    print(imp)"
      ],
      "execution_count": null,
      "outputs": []
    },
    {
      "cell_type": "markdown",
      "metadata": {
        "id": "pA9pnCI1TSZk"
      },
      "source": [
        "**Word frequency**"
      ]
    },
    {
      "cell_type": "code",
      "metadata": {
        "id": "HzcUReZkAVjN"
      },
      "source": [
        "word_frequency = fulltext.count(\"revenue\")\n",
        "print(word_frequency)"
      ],
      "execution_count": null,
      "outputs": []
    },
    {
      "cell_type": "markdown",
      "metadata": {
        "id": "l7dd5Qg95FE9"
      },
      "source": [
        "**Word frequency - multiple**"
      ]
    },
    {
      "cell_type": "code",
      "metadata": {
        "id": "bm4i76h2uIF_"
      },
      "source": [
        "search_words = [\"total\", \"qantas\", \"revenue\", \"sustainability\", \"tax\"]\n",
        "\n",
        "for i in search_words:\n",
        "  word_frequency1 = fulltext.count(i)\n",
        "  print(i, \":\", word_frequency1)"
      ],
      "execution_count": null,
      "outputs": []
    },
    {
      "cell_type": "markdown",
      "metadata": {
        "id": "8U0cMbF5TLzp"
      },
      "source": [
        "**Textstat**"
      ]
    },
    {
      "cell_type": "code",
      "metadata": {
        "id": "oV9JMfKSTACn"
      },
      "source": [
        "textstat.flesch_kincaid_grade(fulltext)"
      ],
      "execution_count": null,
      "outputs": []
    },
    {
      "cell_type": "code",
      "metadata": {
        "id": "6w51q93sTNee"
      },
      "source": [
        "textstat.gunning_fog(fulltext)"
      ],
      "execution_count": null,
      "outputs": []
    },
    {
      "cell_type": "code",
      "metadata": {
        "id": "IwaG5HeAWZ9G"
      },
      "source": [
        "textstat.dale_chall_readability_score(fulltext)"
      ],
      "execution_count": null,
      "outputs": []
    },
    {
      "cell_type": "code",
      "metadata": {
        "id": "flctMeSWWe2e"
      },
      "source": [
        "textstat.avg_sentence_length(fulltext)"
      ],
      "execution_count": null,
      "outputs": []
    },
    {
      "cell_type": "code",
      "metadata": {
        "id": "s0dqaa9nWj8O"
      },
      "source": [
        "textstat.difficult_words(fulltext)"
      ],
      "execution_count": null,
      "outputs": []
    },
    {
      "cell_type": "markdown",
      "metadata": {
        "id": "oHT11eNTTFh8"
      },
      "source": [
        "**Number of words**"
      ]
    },
    {
      "cell_type": "code",
      "metadata": {
        "id": "ZJ41JBH8THar"
      },
      "source": [
        "words = fulltext.split()\n",
        "\n",
        "print('Number of words:', len(words))"
      ],
      "execution_count": null,
      "outputs": []
    },
    {
      "cell_type": "markdown",
      "metadata": {
        "id": "WmDJsh9e48K2"
      },
      "source": [
        "**Extracting a particular page**"
      ]
    },
    {
      "cell_type": "code",
      "metadata": {
        "id": "nKTxXC-D6Gqf"
      },
      "source": [
        "page1 = pdf.pages[103]\n",
        "text1 = page1.extract_text()"
      ],
      "execution_count": null,
      "outputs": []
    },
    {
      "cell_type": "code",
      "metadata": {
        "id": "YzPrQq8b6Xo4"
      },
      "source": [
        "print(text1)"
      ],
      "execution_count": null,
      "outputs": []
    }
  ]
}